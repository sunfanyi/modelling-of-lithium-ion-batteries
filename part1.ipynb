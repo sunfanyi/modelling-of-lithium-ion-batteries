{
 "cells": [
  {
   "cell_type": "code",
   "execution_count": 1,
   "id": "a99bdc83",
   "metadata": {},
   "outputs": [],
   "source": [
    "import os\n",
    "import pandas as pd\n",
    "import numpy as np\n",
    "import matplotlib.pyplot as plt\n",
    "\n",
    "from tools import *"
   ]
  },
  {
   "cell_type": "markdown",
   "id": "03662386",
   "metadata": {},
   "source": [
    "## Load data"
   ]
  },
  {
   "cell_type": "code",
   "execution_count": 2,
   "id": "ed45ecff",
   "metadata": {},
   "outputs": [
    {
     "data": {
      "text/html": [
       "<div>\n",
       "<style scoped>\n",
       "    .dataframe tbody tr th:only-of-type {\n",
       "        vertical-align: middle;\n",
       "    }\n",
       "\n",
       "    .dataframe tbody tr th {\n",
       "        vertical-align: top;\n",
       "    }\n",
       "\n",
       "    .dataframe thead th {\n",
       "        text-align: right;\n",
       "    }\n",
       "</style>\n",
       "<table border=\"1\" class=\"dataframe\">\n",
       "  <thead>\n",
       "    <tr style=\"text-align: right;\">\n",
       "      <th></th>\n",
       "      <th>SOC</th>\n",
       "      <th>Ecell/V</th>\n",
       "    </tr>\n",
       "  </thead>\n",
       "  <tbody>\n",
       "    <tr>\n",
       "      <th>0</th>\n",
       "      <td>100.000000</td>\n",
       "      <td>4.186240</td>\n",
       "    </tr>\n",
       "    <tr>\n",
       "      <th>1</th>\n",
       "      <td>99.998926</td>\n",
       "      <td>4.186390</td>\n",
       "    </tr>\n",
       "    <tr>\n",
       "      <th>2</th>\n",
       "      <td>99.997852</td>\n",
       "      <td>4.186268</td>\n",
       "    </tr>\n",
       "    <tr>\n",
       "      <th>3</th>\n",
       "      <td>99.996778</td>\n",
       "      <td>4.186108</td>\n",
       "    </tr>\n",
       "    <tr>\n",
       "      <th>4</th>\n",
       "      <td>99.995704</td>\n",
       "      <td>4.186100</td>\n",
       "    </tr>\n",
       "  </tbody>\n",
       "</table>\n",
       "</div>"
      ],
      "text/plain": [
       "          SOC   Ecell/V\n",
       "0  100.000000  4.186240\n",
       "1   99.998926  4.186390\n",
       "2   99.997852  4.186268\n",
       "3   99.996778  4.186108\n",
       "4   99.995704  4.186100"
      ]
     },
     "metadata": {},
     "output_type": "display_data"
    },
    {
     "data": {
      "text/html": [
       "<div>\n",
       "<style scoped>\n",
       "    .dataframe tbody tr th:only-of-type {\n",
       "        vertical-align: middle;\n",
       "    }\n",
       "\n",
       "    .dataframe tbody tr th {\n",
       "        vertical-align: top;\n",
       "    }\n",
       "\n",
       "    .dataframe thead th {\n",
       "        text-align: right;\n",
       "    }\n",
       "</style>\n",
       "<table border=\"1\" class=\"dataframe\">\n",
       "  <thead>\n",
       "    <tr style=\"text-align: right;\">\n",
       "      <th></th>\n",
       "      <th>Time (s)</th>\n",
       "      <th>Current (mA)</th>\n",
       "      <th>Voltage (V)</th>\n",
       "      <th>Temperature</th>\n",
       "    </tr>\n",
       "  </thead>\n",
       "  <tbody>\n",
       "    <tr>\n",
       "      <th>0</th>\n",
       "      <td>1</td>\n",
       "      <td>0.0</td>\n",
       "      <td>4.05</td>\n",
       "      <td>21.96</td>\n",
       "    </tr>\n",
       "    <tr>\n",
       "      <th>1</th>\n",
       "      <td>2</td>\n",
       "      <td>0.0</td>\n",
       "      <td>4.05</td>\n",
       "      <td>21.94</td>\n",
       "    </tr>\n",
       "    <tr>\n",
       "      <th>2</th>\n",
       "      <td>3</td>\n",
       "      <td>0.0</td>\n",
       "      <td>4.05</td>\n",
       "      <td>21.94</td>\n",
       "    </tr>\n",
       "    <tr>\n",
       "      <th>3</th>\n",
       "      <td>4</td>\n",
       "      <td>0.0</td>\n",
       "      <td>4.05</td>\n",
       "      <td>21.93</td>\n",
       "    </tr>\n",
       "    <tr>\n",
       "      <th>4</th>\n",
       "      <td>5</td>\n",
       "      <td>0.0</td>\n",
       "      <td>4.05</td>\n",
       "      <td>21.93</td>\n",
       "    </tr>\n",
       "  </tbody>\n",
       "</table>\n",
       "</div>"
      ],
      "text/plain": [
       "   Time (s)  Current (mA)  Voltage (V)  Temperature\n",
       "0         1           0.0         4.05        21.96\n",
       "1         2           0.0         4.05        21.94\n",
       "2         3           0.0         4.05        21.94\n",
       "3         4           0.0         4.05        21.93\n",
       "4         5           0.0         4.05        21.93"
      ]
     },
     "metadata": {},
     "output_type": "display_data"
    }
   ],
   "source": [
    "data_dir = os.path.abspath('battery_experimental_data')\n",
    "SOC_OCV_data = pd.read_csv(os.path.join(data_dir, 'SOC_OCV_MFCTT_2019.csv'), sep='\\t')\n",
    "testing_data = pd.read_csv(os.path.join(data_dir, 'Battery_Testing_Data.csv'), header=0, skiprows=[1])\n",
    "\n",
    "display(SOC_OCV_data.head())\n",
    "display(testing_data.head())"
   ]
  },
  {
   "cell_type": "code",
   "execution_count": 34,
   "id": "8d71ce92",
   "metadata": {},
   "outputs": [],
   "source": [
    "# extract values in numpy array\n",
    "ref_SOC = SOC_OCV_data['SOC'].values               # unit in %\n",
    "ref_OCV = SOC_OCV_data['Ecell/V'].values           # unit in V\n",
    "\n",
    "t = testing_data['Time (s)'].values                # unit in s\n",
    "# negative as the battery starts from charging with negative currents (double check this)\n",
    "I = -testing_data['Current (mA)'].values / 1000    # unit in A\n",
    "V_actual = testing_data['Voltage (V)'].values      # unit in V"
   ]
  },
  {
   "cell_type": "markdown",
   "id": "0b243418",
   "metadata": {},
   "source": [
    "## Model"
   ]
  },
  {
   "cell_type": "code",
   "execution_count": 48,
   "id": "62117e15",
   "metadata": {},
   "outputs": [
    {
     "name": "stdout",
     "output_type": "stream",
     "text": [
      "Initial SOC: 85.95454511%\n"
     ]
    }
   ],
   "source": [
    "V_initial = V_actual[0]\n",
    "# initial SOC (see usage of function in tools.py)\n",
    "z0 = match_val(V_initial, ref_OCV, ref_SOC)\n",
    "print('Initial SOC: {}%'.format(z0))\n",
    "R = 0.02  # resistance (ohm)\n",
    "Q = 2500  # total capacity (mAh)\n",
    "eta = 1   # colulombic efficiency       todo: check if it's time dependent, assume 1 for now\n",
    "\n",
    "dt = t[1] - t[0]\n",
    "N = len(t)\n",
    "z = np.ndarray(N)\n",
    "V_pred = np.ndarray(N)\n",
    "OCV_pred = np.ndarray(N)\n",
    "z[0] = z0\n",
    "\n",
    "for i in range(N):\n",
    "    # Predicted Voltage\n",
    "    OCV_pred[i] = match_val(z[i], ref_SOC, ref_OCV)\n",
    "    V_pred[i] = OCV_pred[i] - I[i] * R\n",
    "    \n",
    "    # State of charge (SOC)\n",
    "    if i != N-1:\n",
    "        z[i+1] = z[i] - 100 * I[i]*eta*dt / (Q/1000*3600)  # *100 to convert to %"
   ]
  },
  {
   "cell_type": "code",
   "execution_count": 50,
   "id": "7c900e8b",
   "metadata": {},
   "outputs": [
    {
     "data": {
      "image/png": "[encoded data removed]",
      "text/plain": [
       "<Figure size 640x480 with 1 Axes>"
      ]
     },
     "metadata": {},
     "output_type": "display_data"
    }
   ],
   "source": [
    "_, ax = plt.subplots()\n",
    "ax.plot(t, V_pred, label='Thevenin Model Voltage')\n",
    "ax.plot(t, V_actual, label='Actual Coltage')\n",
    "ax.legend()\n",
    "plt.show()"
   ]
  },
  {
   "cell_type": "code",
   "execution_count": 30,
   "id": "9e8a1163",
   "metadata": {},
   "outputs": [
    {
     "data": {
      "text/plain": [
       "[<matplotlib.lines.Line2D at 0x1db65e146d0>]"
      ]
     },
     "execution_count": 30,
     "metadata": {},
     "output_type": "execute_result"
    },
    {
     "data": {
      "image/png": "[encoded data removed]",
      "text/plain": [
       "<Figure size 640x480 with 1 Axes>"
      ]
     },
     "metadata": {},
     "output_type": "display_data"
    }
   ],
   "source": [
    "plt.plot(t, I)"
   ]
  },
  {
   "cell_type": "code",
   "execution_count": 38,
   "id": "9711024a",
   "metadata": {},
   "outputs": [
    {
     "data": {
      "text/plain": [
       "array([4.050004 , 4.050004 , 4.050004 , ..., 4.0444164, 4.0444164,\n",
       "       4.0444164])"
      ]
     },
     "execution_count": 38,
     "metadata": {},
     "output_type": "execute_result"
    }
   ],
   "source": [
    "OCV_pred"
   ]
  },
  {
   "cell_type": "code",
   "execution_count": 40,
   "id": "78a7e632",
   "metadata": {},
   "outputs": [
    {
     "data": {
      "text/plain": [
       "array([85.95454511, 85.95454511, 85.95454511, 85.95454511, 85.95454511,\n",
       "       85.95454511, 85.95454511, 85.95454511, 85.95454511, 85.95454511,\n",
       "       85.95454511, 85.95465622, 85.95476733, 85.95487844, 85.95498955,\n",
       "       85.95510067, 85.95521178, 85.95532289, 85.955434  , 85.95554511])"
      ]
     },
     "execution_count": 40,
     "metadata": {},
     "output_type": "execute_result"
    }
   ],
   "source": [
    "z[:20]"
   ]
  },
  {
   "cell_type": "code",
   "execution_count": 46,
   "id": "3b6938f6",
   "metadata": {},
   "outputs": [
    {
     "data": {
      "text/plain": [
       "array([4.050004 , 4.050004 , 4.050004 , 4.050004 , 4.050004 , 4.050004 ,\n",
       "       4.050004 , 4.050004 , 4.050004 , 4.050004 , 4.070004 , 4.070004 ,\n",
       "       4.070004 , 4.070004 , 4.070004 , 4.0699887, 4.0699887, 4.0699887,\n",
       "       4.0699887, 4.0699887])"
      ]
     },
     "execution_count": 46,
     "metadata": {},
     "output_type": "execute_result"
    }
   ],
   "source": [
    "V_pred[:20]"
   ]
  },
  {
   "cell_type": "code",
   "execution_count": null,
   "id": "94b90727",
   "metadata": {},
   "outputs": [],
   "source": []
  }
 ],
 "metadata": {
  "kernelspec": {
   "display_name": "Python 3 (ipykernel)",
   "language": "python",
   "name": "python3"
  },
  "language_info": {
   "codemirror_mode": {
    "name": "ipython",
    "version": 3
   },
   "file_extension": ".py",
   "mimetype": "text/x-python",
   "name": "python",
   "nbconvert_exporter": "python",
   "pygments_lexer": "ipython3",
   "version": "3.9.13"
  }
 },
 "nbformat": 4,
 "nbformat_minor": 5
}
