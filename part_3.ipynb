{
 "cells": [
  {
   "attachments": {},
   "cell_type": "markdown",
   "metadata": {},
   "source": [
    "# Part 3"
   ]
  },
  {
   "cell_type": "code",
   "execution_count": 11,
   "metadata": {},
   "outputs": [],
   "source": [
    "import os\n",
    "import pandas as pd\n",
    "import numpy as np\n",
    "import matplotlib.pyplot as plt\n",
    "from IPython.display import display, HTML\n",
    "from scipy.interpolate import interp2d\n",
    "\n",
    "try:  # if running with Google Colab\n",
    "    from google.colab import drive\n",
    "    drive.mount('/content/drive')\n",
    "\n",
    "    import sys\n",
    "    # the location where you saved the tools.py and csv files\n",
    "    drive_dir = '/content/drive/My Drive/Colab Notebooks/FCTT 3'\n",
    "    sys.path.insert(0, drive_dir)\n",
    "\n",
    "    data_dir =os.path.join(drive_dir, 'battery_experimental_data')\n",
    "except:  # if running locally\n",
    "    data_dir = os.path.abspath('battery_experimental_data')\n",
    "    \n",
    "from tools import *"
   ]
  },
  {
   "attachments": {},
   "cell_type": "markdown",
   "metadata": {},
   "source": [
    "## Load data"
   ]
  },
  {
   "cell_type": "code",
   "execution_count": 2,
   "metadata": {},
   "outputs": [
    {
     "data": {
      "text/html": [
       "<div>\n",
       "<style scoped>\n",
       "    .dataframe tbody tr th:only-of-type {\n",
       "        vertical-align: middle;\n",
       "    }\n",
       "\n",
       "    .dataframe tbody tr th {\n",
       "        vertical-align: top;\n",
       "    }\n",
       "\n",
       "    .dataframe thead th {\n",
       "        text-align: right;\n",
       "    }\n",
       "</style>\n",
       "<table border=\"1\" class=\"dataframe\">\n",
       "  <thead>\n",
       "    <tr style=\"text-align: right;\">\n",
       "      <th></th>\n",
       "      <th>Time (s)</th>\n",
       "      <th>Current (A)</th>\n",
       "      <th>Voltage (V)</th>\n",
       "    </tr>\n",
       "  </thead>\n",
       "  <tbody>\n",
       "    <tr>\n",
       "      <th>0</th>\n",
       "      <td>0.000000</td>\n",
       "      <td>0.0</td>\n",
       "      <td>4.2</td>\n",
       "    </tr>\n",
       "    <tr>\n",
       "      <th>1</th>\n",
       "      <td>1.000005</td>\n",
       "      <td>0.0</td>\n",
       "      <td>4.2</td>\n",
       "    </tr>\n",
       "    <tr>\n",
       "      <th>2</th>\n",
       "      <td>1.999999</td>\n",
       "      <td>0.0</td>\n",
       "      <td>4.2</td>\n",
       "    </tr>\n",
       "    <tr>\n",
       "      <th>3</th>\n",
       "      <td>3.000004</td>\n",
       "      <td>0.0</td>\n",
       "      <td>4.2</td>\n",
       "    </tr>\n",
       "    <tr>\n",
       "      <th>4</th>\n",
       "      <td>3.999998</td>\n",
       "      <td>0.0</td>\n",
       "      <td>4.2</td>\n",
       "    </tr>\n",
       "  </tbody>\n",
       "</table>\n",
       "</div>"
      ],
      "text/plain": [
       "   Time (s)  Current (A)  Voltage (V)\n",
       "0  0.000000          0.0          4.2\n",
       "1  1.000005          0.0          4.2\n",
       "2  1.999999          0.0          4.2\n",
       "3  3.000004          0.0          4.2\n",
       "4  3.999998          0.0          4.2"
      ]
     },
     "metadata": {},
     "output_type": "display_data"
    }
   ],
   "source": [
    "training_data_20 = pd.read_csv(os.path.join(data_dir, 'Model_Training_Data_20.csv'))\n",
    "SOC_OCV_data = pd.read_csv(os.path.join(data_dir, 'SOC_OCV_MFCTT_2019.csv'), sep='\\t')\n",
    "\n",
    "display(training_data_20.head())"
   ]
  },
  {
   "cell_type": "code",
   "execution_count": 3,
   "metadata": {},
   "outputs": [],
   "source": [
    "# extract values in numpy array\n",
    "ref_SOC = SOC_OCV_data['SOC'].values                   # unit in %\n",
    "ref_OCV = SOC_OCV_data['Ecell/V'].values               # unit in V\n",
    "\n",
    "t = training_data_20['Time (s)'].values                # unit in s\n",
    "I = -training_data_20['Current (A)'].values             # unit in A\n",
    "V_actual = training_data_20['Voltage (V)'].values      # unit in V\n",
    "\n",
    "SOC_levels = np.arange(0.9, 0.1, -0.1)\n",
    "SOC_from_idx_map = {i: SOC_levels[i] for i in range(8)}  # 8 SOC levels"
   ]
  },
  {
   "attachments": {},
   "cell_type": "markdown",
   "metadata": {},
   "source": [
    "## Model"
   ]
  },
  {
   "attachments": {},
   "cell_type": "markdown",
   "metadata": {},
   "source": [
    "### Constants"
   ]
  },
  {
   "cell_type": "code",
   "execution_count": 4,
   "metadata": {},
   "outputs": [],
   "source": [
    "T0 = 20\n",
    "R = 8.31446261815324        # Gas constant\n",
    "m = 45.0e-3       # Cell mass 45.0 g\n",
    "\n",
    "c = 825         # Specific heat\n",
    "h = 10          # Heat transfer coefficient\n",
    "\n",
    "# Cell Dimensions\n",
    "height = 64.85e-3\n",
    "radius = 18.33e-3 / 2\n",
    "\n",
    "# Cell Surface Area\n",
    "Area = 2*np.pi*radius*height + 2*np.pi*radius**2"
   ]
  },
  {
   "attachments": {},
   "cell_type": "markdown",
   "metadata": {},
   "source": [
    "### Thermal Model"
   ]
  },
  {
   "cell_type": "code",
   "execution_count": 5,
   "metadata": {},
   "outputs": [],
   "source": [
    "def T_change(I, R0, R1, dt, T, T_env):\n",
    "    dT = (I**2 * (R0 + R1) * dt - h*Area*(T - T_env)) / (m * c)\n",
    "    T_new = T + dT\n",
    "    return T_new"
   ]
  },
  {
   "cell_type": "code",
   "execution_count": 16,
   "metadata": {},
   "outputs": [],
   "source": [
    "# Temperature depends R0\n",
    "R0_const = 40e-3\n",
    "\n",
    "def fit_R0_temp(T):\n",
    "    R0_val = R0_const * np.exp(-E * (T^-1 - T0^-1) / R)\n",
    "    return R0_val"
   ]
  },
  {
   "cell_type": "code",
   "execution_count": 14,
   "metadata": {},
   "outputs": [],
   "source": [
    "# Temperature depends R1\n",
    "R1_const = 40e-3\n",
    "b = 1\n",
    "c = 1\n",
    "\n",
    "def fit_R1_temp(I, T):\n",
    "    R1_val = R1_const * np.exp(-((I-b)**2) / (c)) * np.exp(-E * (T^-1 - T0^-1) / R)\n",
    "    return R1_val"
   ]
  },
  {
   "cell_type": "code",
   "execution_count": 17,
   "metadata": {},
   "outputs": [],
   "source": [
    "# Constant C1 :)\n",
    "C1_const = 197.27991163742004\n",
    "\n",
    "def fit_C1_temp(I, T):\n",
    "    C1_val = C1_const\n",
    "    return C1_val\n"
   ]
  },
  {
   "cell_type": "code",
   "execution_count": 19,
   "metadata": {},
   "outputs": [
    {
     "ename": "NameError",
     "evalue": "name 'first_order_ECN_temp' is not defined",
     "output_type": "error",
     "traceback": [
      "\u001b[1;31m---------------------------------------------------------------------------\u001b[0m",
      "\u001b[1;31mNameError\u001b[0m                                 Traceback (most recent call last)",
      "Cell \u001b[1;32mIn[19], line 2\u001b[0m\n\u001b[0;32m      1\u001b[0m T \u001b[39m=\u001b[39m \u001b[39mNone\u001b[39;00m  \u001b[39m# for now, no dependency on temperature\u001b[39;00m\n\u001b[1;32m----> 2\u001b[0m V_pred \u001b[39m=\u001b[39m first_order_ECN_temp(t_seg, I_seg, T, V_actual_seg, ref_OCV, ref_SOC,\n\u001b[0;32m      3\u001b[0m                          fit_R0, fit_R1, fit_C1)\n",
      "\u001b[1;31mNameError\u001b[0m: name 'first_order_ECN_temp' is not defined"
     ]
    }
   ],
   "source": [
    "T = None  # for now, no dependency on temperature\n",
    "V_pred = first_order_ECN_temp(t_seg, I_seg, T, V_actual_seg, ref_OCV, ref_SOC,\n",
    "                         fit_R0_temp, fit_R1_temp, fit_C1_temp)"
   ]
  },
  {
   "cell_type": "code",
   "execution_count": 10,
   "metadata": {},
   "outputs": [
    {
     "ename": "NameError",
     "evalue": "name 't_seg' is not defined",
     "output_type": "error",
     "traceback": [
      "\u001b[1;31m---------------------------------------------------------------------------\u001b[0m",
      "\u001b[1;31mNameError\u001b[0m                                 Traceback (most recent call last)",
      "Cell \u001b[1;32mIn[10], line 2\u001b[0m\n\u001b[0;32m      1\u001b[0m _, ax \u001b[39m=\u001b[39m plt\u001b[39m.\u001b[39msubplots(figsize\u001b[39m=\u001b[39m(\u001b[39m10\u001b[39m, \u001b[39m6\u001b[39m))\n\u001b[1;32m----> 2\u001b[0m ax\u001b[39m.\u001b[39mplot(t_seg, V_pred, label\u001b[39m=\u001b[39m\u001b[39m'\u001b[39m\u001b[39mFirst Order ECN Model Voltage\u001b[39m\u001b[39m'\u001b[39m)\n\u001b[0;32m      3\u001b[0m ax\u001b[39m.\u001b[39mplot(t_seg, V_actual_seg, label\u001b[39m=\u001b[39m\u001b[39m'\u001b[39m\u001b[39mActual Voltage\u001b[39m\u001b[39m'\u001b[39m)\n\u001b[0;32m      4\u001b[0m ax\u001b[39m.\u001b[39mlegend()\n",
      "\u001b[1;31mNameError\u001b[0m: name 't_seg' is not defined"
     ]
    },
    {
     "data": {
      "image/png": "[encoded data removed]",
      "text/plain": [
       "<Figure size 1000x600 with 1 Axes>"
      ]
     },
     "metadata": {},
     "output_type": "display_data"
    }
   ],
   "source": [
    "_, ax = plt.subplots(figsize=(10, 6))\n",
    "ax.plot(t_seg, V_pred, label='First Order ECN Model Voltage')\n",
    "ax.plot(t_seg, V_actual_seg, label='Actual Voltage')\n",
    "ax.legend()\n",
    "ax.set_xlim([t_seg[0], t_seg[-1]])\n",
    "ax.set_xlabel('Time (s)')\n",
    "ax.set_ylabel('Voltage (V)')\n",
    "ax.set_title('First Order ECN Model Prediction')\n",
    "plt.show()"
   ]
  }
 ],
 "metadata": {
  "kernelspec": {
   "display_name": "Python 3",
   "language": "python",
   "name": "python3"
  },
  "language_info": {
   "codemirror_mode": {
    "name": "ipython",
    "version": 3
   },
   "file_extension": ".py",
   "mimetype": "text/x-python",
   "name": "python",
   "nbconvert_exporter": "python",
   "pygments_lexer": "ipython3",
   "version": "3.8.10"
  },
  "orig_nbformat": 4
 },
 "nbformat": 4,
 "nbformat_minor": 2
}
