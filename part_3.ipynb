{
 "cells": [
  {
   "attachments": {},
   "cell_type": "markdown",
   "metadata": {},
   "source": [
    "# Part 3"
   ]
  },
  {
   "cell_type": "code",
   "execution_count": null,
   "metadata": {},
   "outputs": [],
   "source": [
    "import os\n",
    "import pandas as pd\n",
    "import numpy as np\n",
    "import matplotlib.pyplot as plt\n",
    "from IPython.display import display, HTML\n",
    "from scipy.interpolate import interp2d\n",
    "\n",
    "try:  # if running with Google Colab\n",
    "    from google.colab import drive\n",
    "    drive.mount('/content/drive')\n",
    "\n",
    "    import sys\n",
    "    # the location where you saved the tools.py and csv files\n",
    "    drive_dir = '/content/drive/My Drive/Colab Notebooks/FCTT 3'\n",
    "    sys.path.insert(0, drive_dir)\n",
    "\n",
    "    data_dir =os.path.join(drive_dir, 'battery_experimental_data')\n",
    "except:  # if running locally\n",
    "    data_dir = os.path.abspath('battery_experimental_data')\n",
    "    \n",
    "from tools import *"
   ]
  },
  {
   "attachments": {},
   "cell_type": "markdown",
   "metadata": {},
   "source": [
    "## Load data"
   ]
  },
  {
   "cell_type": "code",
   "execution_count": null,
   "metadata": {},
   "outputs": [],
   "source": [
    "training_data_20 = pd.read_csv(os.path.join(data_dir, 'Model_Training_Data_20.csv'))\n",
    "SOC_OCV_data = pd.read_csv(os.path.join(data_dir, 'SOC_OCV_MFCTT_2019.csv'), sep='\\t')\n",
    "\n",
    "display(training_data_20.head())"
   ]
  },
  {
   "cell_type": "code",
   "execution_count": null,
   "metadata": {},
   "outputs": [],
   "source": [
    "# extract values in numpy array\n",
    "ref_SOC = SOC_OCV_data['SOC'].values                   # unit in %\n",
    "ref_OCV = SOC_OCV_data['Ecell/V'].values               # unit in V\n",
    "\n",
    "t = training_data_20['Time (s)'].values                # unit in s\n",
    "I = -training_data_20['Current (A)'].values             # unit in A\n",
    "V_actual = training_data_20['Voltage (V)'].values      # unit in V\n",
    "\n",
    "SOC_levels = np.arange(0.9, 0.1, -0.1)\n",
    "SOC_from_idx_map = {i: SOC_levels[i] for i in range(8)}  # 8 SOC levels"
   ]
  },
  {
   "attachments": {},
   "cell_type": "markdown",
   "metadata": {},
   "source": [
    "## Model"
   ]
  },
  {
   "attachments": {},
   "cell_type": "markdown",
   "metadata": {},
   "source": [
    "### Constants"
   ]
  },
  {
   "cell_type": "code",
   "execution_count": null,
   "metadata": {},
   "outputs": [],
   "source": [
    "T0 = 20\n",
    "R = 8.31446261815324        # Gas constant\n",
    "m = 45.0e-3       # Cell mass 45.0 g\n",
    "\n",
    "c = 825         # Specific heat\n",
    "h = 10          # Heat transfer coefficient\n",
    "\n",
    "# Cell Dimensions\n",
    "height = 64.85e-3\n",
    "radius = 18.33e-3 / 2\n",
    "\n",
    "# Cell Surface Area\n",
    "Area = 2*np.pi*radius*height + 2*np.pi*radius**2"
   ]
  },
  {
   "attachments": {},
   "cell_type": "markdown",
   "metadata": {},
   "source": [
    "### Thermal Model"
   ]
  },
  {
   "cell_type": "code",
   "execution_count": null,
   "metadata": {},
   "outputs": [],
   "source": [
    "def T_change(I, R0, dt, T, T_env):\n",
    "    dT = (I**2 * R * dt - h*Area*(T - T_env)) / (m * c)\n",
    "    T_new = T + dT\n",
    "    return T_new"
   ]
  },
  {
   "cell_type": "code",
   "execution_count": null,
   "metadata": {},
   "outputs": [],
   "source": [
    "R0_const = 40e-3\n",
    "\n",
    "def fit_R0(I=None, z=None, T):\n",
    "    R0_val = R0_const * np.exp(-E * (T^-1 - T0^-1) / R)\n",
    "    return R0_val"
   ]
  },
  {
   "cell_type": "code",
   "execution_count": null,
   "metadata": {},
   "outputs": [],
   "source": [
    "## only R1 depends on I and z\n",
    "def fit_R1(I, z, T=None):\n",
    "    R1_val = R1_interp_func(I, z)[0]  # from the look-up table built before\n",
    "    return R1_val"
   ]
  },
  {
   "cell_type": "code",
   "execution_count": null,
   "metadata": {},
   "outputs": [],
   "source": [
    "C1_const = 197.27991163742004\n",
    "\n",
    "def fit_C1(I=None, z=None, T=None):\n",
    "    C1_val = C1_const\n",
    "    return C1_val"
   ]
  },
  {
   "cell_type": "code",
   "execution_count": null,
   "metadata": {},
   "outputs": [],
   "source": [
    "T = None  # for now, no dependency on temperature\n",
    "V_pred = first_order_ECN(t_seg, I_seg, T, V_actual_seg, ref_OCV, ref_SOC,\n",
    "                         fit_R0, fit_R1, fit_C1)"
   ]
  },
  {
   "cell_type": "code",
   "execution_count": null,
   "metadata": {},
   "outputs": [],
   "source": [
    "_, ax = plt.subplots(figsize=(10, 6))\n",
    "ax.plot(t_seg, V_pred, label='First Order ECN Model Voltage')\n",
    "ax.plot(t_seg, V_actual_seg, label='Actual Voltage')\n",
    "ax.legend()\n",
    "ax.set_xlim([t_seg[0], t_seg[-1]])\n",
    "ax.set_xlabel('Time (s)')\n",
    "ax.set_ylabel('Voltage (V)')\n",
    "ax.set_title('First Order ECN Model Prediction')\n",
    "plt.show()"
   ]
  }
 ],
 "metadata": {
  "language_info": {
   "name": "python"
  },
  "orig_nbformat": 4
 },
 "nbformat": 4,
 "nbformat_minor": 2
}
